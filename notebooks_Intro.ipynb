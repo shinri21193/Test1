{
  "metadata": {
    "kernelspec": {
      "name": "python",
      "display_name": "Python (Pyodide)",
      "language": "python"
    },
    "language_info": {
      "codemirror_mode": {
        "name": "python",
        "version": 3
      },
      "file_extension": ".py",
      "mimetype": "text/x-python",
      "name": "python",
      "nbconvert_exporter": "python",
      "pygments_lexer": "ipython3",
      "version": "3.8"
    }
  },
  "nbformat_minor": 5,
  "nbformat": 4,
  "cells": [
    {
      "cell_type": "markdown",
      "source": "# My Jupyter Notebook on IBM Watson Studio",
      "metadata": {},
      "id": "281c46d5-7306-4337-b95e-92d904ac46a1"
    },
    {
      "cell_type": "markdown",
      "source": "Vu Mien Ly\n------ \nMathematician ",
      "metadata": {},
      "id": "25e5b279-3122-479c-a15c-2557befbeec2"
    },
    {
      "cell_type": "markdown",
      "source": "I'm a mathematician so have a interesting in data. May be that's the resion why I study data science.",
      "metadata": {},
      "id": "aafe5f11-05cc-4676-802c-ccd461de020e"
    },
    {
      "cell_type": "markdown",
      "source": "Square",
      "metadata": {},
      "id": "de50998c-f5d8-4603-8c89-6d3a67f94b8e"
    },
    {
      "cell_type": "code",
      "source": "import math\n\nx = math.sqrt(64)\n\nprint(x)",
      "metadata": {
        "trusted": true
      },
      "execution_count": 4,
      "outputs": [
        {
          "name": "stdout",
          "text": "8.0\n",
          "output_type": "stream"
        }
      ],
      "id": "c0a50e0a-02fd-4423-adbe-87abe6d86df7"
    },
    {
      "cell_type": "markdown",
      "source": "[I'm an inline-style link](https://www.google.com)\n\nInline-style: \n![alt text](https://github.com/adam-p/markdown-here/raw/master/src/common/images/icon48.png \"Logo Title Text 1\")\n\n| first name    | Age   | sex   |\n| ------------- |:-----:| -----:|\n| Ann           | 20    | female|\n| Peter         | 18    |   male|\n| Paul          | 30    |   male|",
      "metadata": {},
      "id": "216c5045-616c-4de8-9203-17e69c822351"
    },
    {
      "cell_type": "code",
      "source": "",
      "metadata": {},
      "execution_count": null,
      "outputs": [],
      "id": "c8390e70-f0ae-4c3e-876b-e08a15c10781"
    }
  ]
}